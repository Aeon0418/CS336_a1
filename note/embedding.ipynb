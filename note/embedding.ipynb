{
 "cells": [
  {
   "cell_type": "code",
   "execution_count": null,
   "id": "6d637ab4",
   "metadata": {},
   "outputs": [],
   "source": [
    "def run_embedding(\n",
    "    vocab_size: int,\n",
    "    d_model: int,\n",
    "    weights: Float[Tensor, \" vocab_size d_model\"],\n",
    "    token_ids: Int[Tensor, \" ...\"],\n",
    ") -> Float[Tensor, \" ... d_model\"]:\n",
    "    \"\"\"\n",
    "    给定嵌入层的权重，获取一批token ID的嵌入。\n",
    "参数:\n",
    "        vocab_size (int): 词汇表中嵌入的数量\n",
    "        d_model (int): 嵌入维度的大小\n",
    "        weights (Float[Tensor, \"vocab_size d_model\"]): 要获取的嵌入向量\n",
    "        token_ids (Int[Tensor, \"...\"]): 要从嵌入层获取的token ID集合\n",
    "\n",
    "    返回:\n",
    "        Float[Tensor, \"... d_model\"]: 嵌入层返回的嵌入批次。\n",
    "    \"\"\""
   ]
  },
  {
   "cell_type": "markdown",
   "id": "11ef0c76",
   "metadata": {},
   "source": [
    "embedding 层是查表操作，将token_ids映射到d_model维度"
   ]
  },
  {
   "cell_type": "code",
   "execution_count": null,
   "id": "5fa979ac",
   "metadata": {},
   "outputs": [],
   "source": [
    "class Embedding(nn.Module):\n",
    "    def __init__(self,num_embedding,embedding_dim,device=None,dtype=None):\n",
    "        super().__init__()\n",
    "        self.num_embedding = num_embedding # 词汇表大小\n",
    "        self.embedding_dim = embedding_dim # 嵌入维度\n",
    "        factory_kwargs = {'device': device, 'dtype': dtype}\n",
    "        # 包起来更简洁\n",
    "        #把这个张量，注册到模型里\n",
    "        self.weight = nn.Parameter(\n",
    "            torch.empty(num_embedding, embedding_dim, **factory_kwargs\n",
    "            ))\n",
    "        torch.nn.init.trunc_normal_(self.weight, mean=0.0, std=1.0, a=-3, b=3)\n",
    "\n",
    "\n",
    "        \n",
    "    def forward(self, token_ids: torch.Tensor) -> torch.Tensor:\n",
    "        #token_ids：通常是一个整数张量（任意形状），每个元素是一个 token 的 ID\n",
    "        #利用 PyTorch 的张量索引功能直接做查表（lookup），输出形状 [..., d_model] 的嵌入向量。\n",
    "        # 取出对应的行向量 \n",
    "        out = self.weight[token_ids]\n",
    "        return out\n"
   ]
  }
 ],
 "metadata": {
  "language_info": {
   "name": "python"
  }
 },
 "nbformat": 4,
 "nbformat_minor": 5
}
