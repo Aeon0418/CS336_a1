{
 "cells": [
  {
   "cell_type": "markdown",
   "id": "2227075b",
   "metadata": {},
   "source": [
    "# 手写RoPE"
   ]
  },
  {
   "cell_type": "code",
   "execution_count": null,
   "id": "ef032c65",
   "metadata": {},
   "outputs": [],
   "source": [
    "def run_rope(\n",
    "    d_k: int,\n",
    "    theta: float,\n",
    "    max_seq_len: int,\n",
    "    in_query_or_key: Float[Tensor, \" ... sequence_length d_k\"],\n",
    "    token_positions: Int[Tensor, \" ... sequence_length\"],\n",
    ") -> Float[Tensor, \" ... sequence_length d_k\"]:\n",
    "    \"\"\"\n",
    "    为给定输入张量运行RoPE。\n",
    "\n",
    "    参数:\n",
    "        d_k (int): 查询或键张量的嵌入维度大小。\n",
    "        theta (float): RoPE参数。\n",
    "        max_seq_len (int): 如果你的实现预缓存的最大序列长度。\n",
    "        in_query_or_key (Float[Tensor, \"... sequence_length d_k\"]): 运行RoPE的输入张量。\n",
    "        token_positions (Int[Tensor, \"... sequence_length\"]): 形状为(batch_size, sequence_length)的张量，包含token位置\n",
    "    返回:\n",
    "        Float[Tensor, \" ... sequence_length d_k\"]: 应用RoPE的输入张量。\n",
    "    \"\"\""
   ]
  }
 ],
 "metadata": {
  "kernelspec": {
   "display_name": "cs336-basics",
   "language": "python",
   "name": "python3"
  },
  "language_info": {
   "name": "python",
   "version": "3.12.7"
  }
 },
 "nbformat": 4,
 "nbformat_minor": 5
}
