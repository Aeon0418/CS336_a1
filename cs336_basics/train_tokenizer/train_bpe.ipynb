{
 "cells": [
  {
   "cell_type": "markdown",
   "id": "f524c7fc",
   "metadata": {},
   "source": [
    "由于txt文件可能很大，必须采用并行的办法来处理\n"
   ]
  },
  {
   "cell_type": "code",
   "execution_count": null,
   "id": "359ca416",
   "metadata": {},
   "outputs": [],
   "source": [
    "from joblib import Parallel, delayed\n",
    "\n",
    "\n",
    "\n",
    "num_processes = 8  # Adjust the number of processes as needed\n",
    "\n",
    "\n",
    "results = Parallel(n_jobs=num_processes)(\n",
    "        delayed(count_tokens_in_chunk)(start, end, input_path, special_tokens)\n",
    "        for start, end in zip(boundaries[:-1], boundaries[1:])\n",
    "    )\n",
    "# results 是一个列表（list），其中包含多个字典（dict）。每个字典记录了一个文件块中的 token 频率统计。\n",
    "# 查看Parallel 的构造函数参数，return_as: str = \"list\", 默认列表"
   ]
  },
  {
   "cell_type": "markdown",
   "id": "c597d7bd",
   "metadata": {},
   "source": [
    "Parallel(n_jobs=num_processes): 创建一个并行执行器，可以同时运行 num_processes 个任务\n",
    "\n",
    "delayed(): 把函数包装起来，使其可以被并行执行\n",
    "\n",
    "\n",
    "boundaries[:-1]: 获取除最后一个边界外的所有边界点  \n",
    "boundaries[1:]: 获取除第一个边界外的所有边界点  \n",
    "zip(boundaries[:-1], boundaries[1:]): 将相邻的边界点配对，形成每个块的起始和结束位置"
   ]
  }
 ],
 "metadata": {
  "kernelspec": {
   "display_name": "cs336-basics",
   "language": "python",
   "name": "python3"
  },
  "language_info": {
   "codemirror_mode": {
    "name": "ipython",
    "version": 3
   },
   "file_extension": ".py",
   "mimetype": "text/x-python",
   "name": "python",
   "nbconvert_exporter": "python",
   "pygments_lexer": "ipython3",
   "version": "3.12.7"
  }
 },
 "nbformat": 4,
 "nbformat_minor": 5
}
